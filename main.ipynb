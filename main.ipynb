{
 "cells": [
  {
   "cell_type": "markdown",
   "metadata": {},
   "source": [
    "# **Importing Libraries**"
   ]
  },
  {
   "cell_type": "code",
   "execution_count": 628,
   "metadata": {},
   "outputs": [],
   "source": [
    "import pandas as pd\n",
    "import numpy as np\n",
    "import seaborn as sns\n",
    "import matplotlib.pyplot as plt\n",
    "from sklearn.model_selection import train_test_split\n",
    "from sklearn.preprocessing import StandardScaler\n",
    "import tensorflow as tf\n",
    "from tensorflow import keras\n",
    "from tensorflow.keras import layers\n",
    "from tensorflow.keras.models import Sequential\n",
    "from tensorflow.keras.layers import Dense, Dropout\n",
    "from tensorflow.keras.callbacks import EarlyStopping, ReduceLROnPlateau\n",
    "from sklearn.preprocessing import OneHotEncoder\n",
    "from sklearn.model_selection import StratifiedShuffleSplit"
   ]
  },
  {
   "cell_type": "markdown",
   "metadata": {},
   "source": [
    "# **Importing Dataset**"
   ]
  },
  {
   "cell_type": "code",
   "execution_count": 629,
   "metadata": {},
   "outputs": [],
   "source": [
    "def import_dataset(path: str ,nrows: int | None = None) -> pd.DataFrame:\n",
    "    train_df = pd.read_csv(path, nrows=nrows)\n",
    "\n",
    "    machine_area_df = pd.read_csv(\"dataset/Machine-Area.csv\")\n",
    "    machine_list_df = pd.read_csv(\"dataset/Machine-List.csv\")\n",
    "    area_list_df = pd.read_csv(\"dataset/Area-List.csv\")\n",
    "\n",
    "    machine_area_df['Last Maintenance'] = pd.to_datetime(machine_area_df['Last Maintenance'])\n",
    "    machine_area_filtered_df = machine_area_df.sort_values(by=['ID_Area', 'ID_Mesin', 'Last Maintenance'], ascending=[True, True, False])\n",
    "    machine_area_filtered_df = machine_area_filtered_df.drop_duplicates(subset=['ID_Area', 'ID_Mesin'], keep='first')\n",
    "\n",
    "    combined_df = pd.merge(train_df, area_list_df, on='ID_Area', how='left')\n",
    "    combined_df = pd.merge(combined_df, machine_list_df, left_on='Machine', right_on='ID_Mesin', how='left')\n",
    "    combined_df = pd.merge(combined_df, machine_area_filtered_df, left_on=['Machine', 'ID_Area'], right_on=['ID_Mesin', 'ID_Area'], how='left')\n",
    "\n",
    "    return combined_df\n",
    "    "
   ]
  },
  {
   "cell_type": "code",
   "execution_count": 630,
   "metadata": {},
   "outputs": [],
   "source": [
    "train_df = import_dataset(\n",
    "    path=\"dataset/train.csv\", \n",
    "    nrows=1_000_000)"
   ]
  },
  {
   "cell_type": "code",
   "execution_count": 631,
   "metadata": {},
   "outputs": [],
   "source": [
    "test_df = import_dataset(\n",
    "    path=\"dataset/test.csv\", \n",
    "    nrows=200_000)"
   ]
  },
  {
   "cell_type": "code",
   "execution_count": 632,
   "metadata": {},
   "outputs": [],
   "source": [
    "strat_split = StratifiedShuffleSplit(n_splits=1, test_size=0.5, random_state=42)\n",
    "\n",
    "for train_index, test_index in strat_split.split(train_df, train_df['Status']):\n",
    "    train_df = train_df.iloc[test_index]"
   ]
  },
  {
   "cell_type": "code",
   "execution_count": 633,
   "metadata": {},
   "outputs": [],
   "source": [
    "train_df = train_df.drop(columns=['ID_Transaction'])"
   ]
  },
  {
   "cell_type": "code",
   "execution_count": 634,
   "metadata": {},
   "outputs": [
    {
     "data": {
      "text/plain": [
       "Index(['temperature_10H_max (°C)', 'temperature_10H_min (°C)', 'temperature-1',\n",
       "       'temperature-2', 'temperature-3', 'apparent_temperature_max',\n",
       "       'apparent_temperature_min', 'ID_Area', 'Machine', 'timestamp',\n",
       "       'humidity', 'Voltage-L', 'Voltage-R', 'Voltage-M', 'Current-M',\n",
       "       'Current-R', 'Current-T', 'RPM', 'RPM-1', 'RPM-2', 'RPM-3',\n",
       "       'Vibration-1', 'Vibration-2', 'Power', 'Power_Backup', 'Status',\n",
       "       'Breakdown Category', 'Area', 'Priority', 'ID_Mesin_x', 'Mesin_x',\n",
       "       'Country Machine_x', 'ID_Mesin_y', 'Mesin_y', 'Country Machine_y',\n",
       "       'Last Maintenance', 'Status Sparepart', 'Age'],\n",
       "      dtype='object')"
      ]
     },
     "execution_count": 634,
     "metadata": {},
     "output_type": "execute_result"
    }
   ],
   "source": [
    "train_df.columns"
   ]
  },
  {
   "cell_type": "markdown",
   "metadata": {},
   "source": [
    "# **Data Cleaning**"
   ]
  },
  {
   "cell_type": "markdown",
   "metadata": {},
   "source": [
    "## Identify Missing Data"
   ]
  },
  {
   "cell_type": "code",
   "execution_count": 635,
   "metadata": {},
   "outputs": [
    {
     "name": "stdout",
     "output_type": "stream",
     "text": [
      "temperature_10H_max (°C)     2.8772\n",
      "temperature_10H_min (°C)    19.1994\n",
      "temperature-1                2.8984\n",
      "temperature-2               11.6128\n",
      "temperature-3                3.5674\n",
      "apparent_temperature_max    21.2328\n",
      "apparent_temperature_min    20.1262\n",
      "ID_Area                     17.2844\n",
      "Machine                     16.9086\n",
      "timestamp                    0.0000\n",
      "humidity                    19.4758\n",
      "Voltage-L                    9.6194\n",
      "Voltage-R                    6.8952\n",
      "Voltage-M                    3.4110\n",
      "Current-M                    1.1008\n",
      "Current-R                    1.3642\n",
      "Current-T                   22.6958\n",
      "RPM                         11.0316\n",
      "RPM-1                       13.4344\n",
      "RPM-2                       18.7208\n",
      "RPM-3                       18.1432\n",
      "Vibration-1                  5.3650\n",
      "Vibration-2                 15.1628\n",
      "Power                       13.0896\n",
      "Power_Backup                 3.3980\n",
      "Status                       0.0000\n",
      "Breakdown Category          73.7994\n",
      "Area                        17.2844\n",
      "Priority                    17.2844\n",
      "ID_Mesin_x                  16.9086\n",
      "Mesin_x                     16.9086\n",
      "Country Machine_x           16.9086\n",
      "ID_Mesin_y                  39.5506\n",
      "Mesin_y                     39.5506\n",
      "Country Machine_y           39.5506\n",
      "Last Maintenance            39.5506\n",
      "Status Sparepart            39.5506\n",
      "Age                         39.5506\n",
      "dtype: float64\n"
     ]
    }
   ],
   "source": [
    "missing = train_df.isnull().sum()\n",
    "missing_percentage = missing / len(train_df) * 100\n",
    "print(missing_percentage)"
   ]
  },
  {
   "cell_type": "markdown",
   "metadata": {},
   "source": [
    "## Handling Missing Data"
   ]
  },
  {
   "cell_type": "code",
   "execution_count": 636,
   "metadata": {},
   "outputs": [],
   "source": [
    "columns_to_impute = missing_percentage[missing_percentage < 5].index\n",
    "for col in columns_to_impute:\n",
    "    if train_df[col].dtype in ['float64', 'int64']:\n",
    "        train_df[col] = train_df[col].fillna(train_df[col].median())"
   ]
  },
  {
   "cell_type": "code",
   "execution_count": 637,
   "metadata": {},
   "outputs": [],
   "source": [
    "def random_sample_impute(series):\n",
    "    non_missing = series.dropna()\n",
    "    return series.apply(lambda x: np.random.choice(non_missing) if pd.isnull(x) else x)"
   ]
  },
  {
   "cell_type": "code",
   "execution_count": 638,
   "metadata": {},
   "outputs": [],
   "source": [
    "from sklearn.impute import KNNImputer\n",
    "def knn_impute_single_column(series, n_neighbors=2):\n",
    "    series_df = series.to_frame()\n",
    "    knn_imputer = KNNImputer(n_neighbors=n_neighbors)\n",
    "    imputed_array = knn_imputer.fit_transform(series_df)\n",
    "    return pd.Series(imputed_array.ravel(), index=series.index, name=series.name)"
   ]
  },
  {
   "cell_type": "code",
   "execution_count": 639,
   "metadata": {},
   "outputs": [
    {
     "name": "stdout",
     "output_type": "stream",
     "text": [
      "Imputed temperature_10H_min (°C)\n",
      "Imputed temperature-2\n",
      "Imputed apparent_temperature_max\n",
      "Imputed apparent_temperature_min\n",
      "Imputed humidity\n",
      "Imputed Voltage-L\n",
      "Imputed Voltage-R\n",
      "Imputed Current-T\n",
      "Imputed RPM\n",
      "Imputed RPM-1\n",
      "Imputed RPM-2\n",
      "Imputed RPM-3\n",
      "Imputed Vibration-1\n",
      "Imputed Vibration-2\n",
      "Imputed Power\n"
     ]
    }
   ],
   "source": [
    "moderate_missingness_cols = missing_percentage[(missing_percentage >= 5) & (missing_percentage <= 23)].index\n",
    "numerical_cols = [col for col in moderate_missingness_cols if train_df[col].dtype in ['float64', 'int64']]\n",
    "\n",
    "for col in numerical_cols:\n",
    "    train_df[col] = random_sample_impute(train_df[col])\n",
    "    print(f\"Imputed {col}\")"
   ]
  },
  {
   "cell_type": "code",
   "execution_count": 640,
   "metadata": {},
   "outputs": [
    {
     "name": "stdout",
     "output_type": "stream",
     "text": [
      "temperature_10H_max (°C)     0.0000\n",
      "temperature_10H_min (°C)     0.0000\n",
      "temperature-1                0.0000\n",
      "temperature-2                0.0000\n",
      "temperature-3                0.0000\n",
      "apparent_temperature_max     0.0000\n",
      "apparent_temperature_min     0.0000\n",
      "ID_Area                     17.2844\n",
      "Machine                     16.9086\n",
      "timestamp                    0.0000\n",
      "humidity                     0.0000\n",
      "Voltage-L                    0.0000\n",
      "Voltage-R                    0.0000\n",
      "Voltage-M                    0.0000\n",
      "Current-M                    0.0000\n",
      "Current-R                    0.0000\n",
      "Current-T                    0.0000\n",
      "RPM                          0.0000\n",
      "RPM-1                        0.0000\n",
      "RPM-2                        0.0000\n",
      "RPM-3                        0.0000\n",
      "Vibration-1                  0.0000\n",
      "Vibration-2                  0.0000\n",
      "Power                        0.0000\n",
      "Power_Backup                 3.3980\n",
      "Status                       0.0000\n",
      "Breakdown Category          73.7994\n",
      "Area                        17.2844\n",
      "Priority                    17.2844\n",
      "ID_Mesin_x                  16.9086\n",
      "Mesin_x                     16.9086\n",
      "Country Machine_x           16.9086\n",
      "ID_Mesin_y                  39.5506\n",
      "Mesin_y                     39.5506\n",
      "Country Machine_y           39.5506\n",
      "Last Maintenance            39.5506\n",
      "Status Sparepart            39.5506\n",
      "Age                         39.5506\n",
      "dtype: float64\n"
     ]
    }
   ],
   "source": [
    "missing = train_df.isnull().sum()\n",
    "missing_percentage = missing / len(train_df) * 100\n",
    "print(missing_percentage)"
   ]
  },
  {
   "cell_type": "code",
   "execution_count": 641,
   "metadata": {},
   "outputs": [],
   "source": [
    "train_df['Age'] = train_df['Age'].fillna(-1)"
   ]
  },
  {
   "cell_type": "markdown",
   "metadata": {},
   "source": [
    "## Dealing with Outliers"
   ]
  },
  {
   "cell_type": "markdown",
   "metadata": {},
   "source": [
    "## Remove Duplicates"
   ]
  },
  {
   "cell_type": "markdown",
   "metadata": {},
   "source": [
    "## Feature Engineering"
   ]
  },
  {
   "cell_type": "markdown",
   "metadata": {},
   "source": [
    "# **Data Preprocessing**"
   ]
  },
  {
   "cell_type": "markdown",
   "metadata": {},
   "source": [
    "## Feature Scaling"
   ]
  },
  {
   "cell_type": "code",
   "execution_count": 642,
   "metadata": {},
   "outputs": [],
   "source": [
    "numerical_cols = [col for col in train_df.columns if train_df[col].dtype in ['float64', 'int64']]\n",
    "scaler = StandardScaler()\n",
    "train_df[numerical_cols] = scaler.fit_transform(train_df[numerical_cols])\n"
   ]
  },
  {
   "cell_type": "markdown",
   "metadata": {},
   "source": [
    "## Feature Encoding"
   ]
  },
  {
   "cell_type": "code",
   "execution_count": 643,
   "metadata": {},
   "outputs": [],
   "source": [
    "categorical_cols = [col for col in train_df.columns if col not in numerical_cols]"
   ]
  },
  {
   "cell_type": "code",
   "execution_count": 646,
   "metadata": {},
   "outputs": [],
   "source": [
    "def one_hot_encode(df, cols):\n",
    "    if df[col].isnull().any():\n",
    "        df[col] = df[col].fillna(\"Missing\")\n",
    "    encoder = OneHotEncoder(sparse_output=False, handle_unknown='ignore')\n",
    "    onehot_encoded = encoder.fit_transform(df[[cols]])\n",
    "    encoded_df = pd.DataFrame(onehot_encoded, columns=encoder.get_feature_names_out([cols]), index = df.index)\n",
    "    df_encoded = pd.concat([df.drop(columns=cols), encoded_df], axis=1)\n",
    "    return df_encoded"
   ]
  },
  {
   "cell_type": "code",
   "execution_count": 647,
   "metadata": {},
   "outputs": [],
   "source": [
    "train_df = one_hot_encode(train_df, 'Priority')"
   ]
  },
  {
   "cell_type": "code",
   "execution_count": 649,
   "metadata": {},
   "outputs": [],
   "source": [
    "train_df = one_hot_encode(train_df, 'Status Sparepart') "
   ]
  },
  {
   "cell_type": "code",
   "execution_count": 679,
   "metadata": {},
   "outputs": [],
   "source": [
    "train_df = one_hot_encode(train_df, 'Power_Backup')"
   ]
  },
  {
   "cell_type": "code",
   "execution_count": 650,
   "metadata": {},
   "outputs": [
    {
     "data": {
      "text/plain": [
       "temperature_10H_max (°C)          0\n",
       "temperature_10H_min (°C)          0\n",
       "temperature-1                     0\n",
       "temperature-2                     0\n",
       "temperature-3                     0\n",
       "apparent_temperature_max          0\n",
       "apparent_temperature_min          0\n",
       "ID_Area                       86422\n",
       "Machine                       84543\n",
       "timestamp                         0\n",
       "humidity                          0\n",
       "Voltage-L                         0\n",
       "Voltage-R                         0\n",
       "Voltage-M                         0\n",
       "Current-M                         0\n",
       "Current-R                         0\n",
       "Current-T                         0\n",
       "RPM                               0\n",
       "RPM-1                             0\n",
       "RPM-2                             0\n",
       "RPM-3                             0\n",
       "Vibration-1                       0\n",
       "Vibration-2                       0\n",
       "Power                             0\n",
       "Power_Backup                  16990\n",
       "Status                            0\n",
       "Breakdown Category           368997\n",
       "Area                          86422\n",
       "ID_Mesin_x                    84543\n",
       "Mesin_x                       84543\n",
       "Country Machine_x             84543\n",
       "ID_Mesin_y                   197753\n",
       "Mesin_y                      197753\n",
       "Country Machine_y            197753\n",
       "Last Maintenance             197753\n",
       "Age                               0\n",
       "Priority_High                     0\n",
       "Priority_Low                      0\n",
       "Priority_Medium                   0\n",
       "Priority_nan                      0\n",
       "Status Sparepart_Broken           0\n",
       "Status Sparepart_Empty            0\n",
       "Status Sparepart_In Use           0\n",
       "Status Sparepart_On Check         0\n",
       "Status Sparepart_Ready            0\n",
       "Status Sparepart_Repair           0\n",
       "Status Sparepart_nan              0\n",
       "dtype: int64"
      ]
     },
     "execution_count": 650,
     "metadata": {},
     "output_type": "execute_result"
    }
   ],
   "source": [
    "train_df.isnull().sum()"
   ]
  },
  {
   "cell_type": "markdown",
   "metadata": {},
   "source": [
    "## Handling Imbalanced Dataset"
   ]
  },
  {
   "cell_type": "markdown",
   "metadata": {},
   "source": [
    "## Dimensionality Reduction"
   ]
  },
  {
   "cell_type": "markdown",
   "metadata": {},
   "source": [
    "### bisa pake feature hasher buat categorical"
   ]
  },
  {
   "cell_type": "code",
   "execution_count": 651,
   "metadata": {},
   "outputs": [],
   "source": [
    "from tensorflow.keras.utils import to_categorical\n",
    "X = train_df[numerical_cols]\n",
    "y = train_df['Status'].map({'Normal': 0, 'Warning': 1, 'Breakdown': 2})\n",
    "\n",
    "# y_one_hot = to_categorical(y, num_classes=3)\n"
   ]
  },
  {
   "cell_type": "code",
   "execution_count": 652,
   "metadata": {},
   "outputs": [],
   "source": [
    "# from sklearn.feature_selection import SelectKBest, f_classif\n",
    "\n",
    "# selector = SelectKBest(score_func=f_classif, k=3)\n",
    "# X_reduced = selector.fit_transform(X, y)\n"
   ]
  },
  {
   "cell_type": "code",
   "execution_count": 653,
   "metadata": {},
   "outputs": [],
   "source": [
    "# X_train, X_test, y_train, y_test = train_test_split(X_reduced, y, test_size=0.2, random_state=42)"
   ]
  },
  {
   "cell_type": "code",
   "execution_count": 654,
   "metadata": {},
   "outputs": [
    {
     "name": "stdout",
     "output_type": "stream",
     "text": [
      "Epoch 1/50\n",
      "\u001b[1m12500/12500\u001b[0m \u001b[32m━━━━━━━━━━━━━━━━━━━━\u001b[0m\u001b[37m\u001b[0m \u001b[1m11s\u001b[0m 823us/step - loss: 0.9802 - val_loss: 0.8981\n",
      "Epoch 2/50\n",
      "\u001b[1m12500/12500\u001b[0m \u001b[32m━━━━━━━━━━━━━━━━━━━━\u001b[0m\u001b[37m\u001b[0m \u001b[1m10s\u001b[0m 814us/step - loss: 0.9219 - val_loss: 0.8951\n",
      "Epoch 3/50\n",
      "\u001b[1m12500/12500\u001b[0m \u001b[32m━━━━━━━━━━━━━━━━━━━━\u001b[0m\u001b[37m\u001b[0m \u001b[1m10s\u001b[0m 762us/step - loss: 0.9143 - val_loss: 0.8932\n",
      "Epoch 4/50\n",
      "\u001b[1m12500/12500\u001b[0m \u001b[32m━━━━━━━━━━━━━━━━━━━━\u001b[0m\u001b[37m\u001b[0m \u001b[1m10s\u001b[0m 832us/step - loss: 0.9359 - val_loss: 0.8897\n",
      "Epoch 5/50\n",
      "\u001b[1m12500/12500\u001b[0m \u001b[32m━━━━━━━━━━━━━━━━━━━━\u001b[0m\u001b[37m\u001b[0m \u001b[1m10s\u001b[0m 783us/step - loss: 0.9149 - val_loss: 0.8879\n",
      "Epoch 6/50\n",
      "\u001b[1m12500/12500\u001b[0m \u001b[32m━━━━━━━━━━━━━━━━━━━━\u001b[0m\u001b[37m\u001b[0m \u001b[1m10s\u001b[0m 778us/step - loss: 0.9034 - val_loss: 0.8874\n",
      "Epoch 7/50\n",
      "\u001b[1m12500/12500\u001b[0m \u001b[32m━━━━━━━━━━━━━━━━━━━━\u001b[0m\u001b[37m\u001b[0m \u001b[1m10s\u001b[0m 786us/step - loss: 0.9076 - val_loss: 0.8871\n",
      "Epoch 8/50\n",
      "\u001b[1m12500/12500\u001b[0m \u001b[32m━━━━━━━━━━━━━━━━━━━━\u001b[0m\u001b[37m\u001b[0m \u001b[1m10s\u001b[0m 821us/step - loss: 0.8938 - val_loss: 0.8870\n",
      "Epoch 9/50\n",
      "\u001b[1m12500/12500\u001b[0m \u001b[32m━━━━━━━━━━━━━━━━━━━━\u001b[0m\u001b[37m\u001b[0m \u001b[1m12s\u001b[0m 986us/step - loss: 0.8977 - val_loss: 0.8868\n",
      "Epoch 10/50\n",
      "\u001b[1m12500/12500\u001b[0m \u001b[32m━━━━━━━━━━━━━━━━━━━━\u001b[0m\u001b[37m\u001b[0m \u001b[1m14s\u001b[0m 1ms/step - loss: 0.9198 - val_loss: 0.8865\n",
      "Epoch 11/50\n",
      "\u001b[1m12500/12500\u001b[0m \u001b[32m━━━━━━━━━━━━━━━━━━━━\u001b[0m\u001b[37m\u001b[0m \u001b[1m14s\u001b[0m 1ms/step - loss: 0.9126 - val_loss: 0.8864\n",
      "Epoch 12/50\n",
      "\u001b[1m12500/12500\u001b[0m \u001b[32m━━━━━━━━━━━━━━━━━━━━\u001b[0m\u001b[37m\u001b[0m \u001b[1m13s\u001b[0m 1ms/step - loss: 0.8951 - val_loss: 0.8863\n",
      "Epoch 13/50\n",
      "\u001b[1m12500/12500\u001b[0m \u001b[32m━━━━━━━━━━━━━━━━━━━━\u001b[0m\u001b[37m\u001b[0m \u001b[1m13s\u001b[0m 1ms/step - loss: 0.9313 - val_loss: 0.8863\n",
      "Epoch 14/50\n",
      "\u001b[1m12500/12500\u001b[0m \u001b[32m━━━━━━━━━━━━━━━━━━━━\u001b[0m\u001b[37m\u001b[0m \u001b[1m14s\u001b[0m 1ms/step - loss: 0.9087 - val_loss: 0.8863\n",
      "Epoch 15/50\n",
      "\u001b[1m12500/12500\u001b[0m \u001b[32m━━━━━━━━━━━━━━━━━━━━\u001b[0m\u001b[37m\u001b[0m \u001b[1m10s\u001b[0m 786us/step - loss: 0.9248 - val_loss: 0.8862\n",
      "Epoch 16/50\n",
      "\u001b[1m12500/12500\u001b[0m \u001b[32m━━━━━━━━━━━━━━━━━━━━\u001b[0m\u001b[37m\u001b[0m \u001b[1m10s\u001b[0m 808us/step - loss: 0.9780 - val_loss: 0.8862\n",
      "Epoch 17/50\n",
      "\u001b[1m12500/12500\u001b[0m \u001b[32m━━━━━━━━━━━━━━━━━━━━\u001b[0m\u001b[37m\u001b[0m \u001b[1m10s\u001b[0m 814us/step - loss: 0.9211 - val_loss: 0.8862\n",
      "Epoch 18/50\n",
      "\u001b[1m12500/12500\u001b[0m \u001b[32m━━━━━━━━━━━━━━━━━━━━\u001b[0m\u001b[37m\u001b[0m \u001b[1m14s\u001b[0m 1ms/step - loss: 0.9115 - val_loss: 0.8862\n",
      "Epoch 19/50\n",
      "\u001b[1m12500/12500\u001b[0m \u001b[32m━━━━━━━━━━━━━━━━━━━━\u001b[0m\u001b[37m\u001b[0m \u001b[1m14s\u001b[0m 1ms/step - loss: 0.9159 - val_loss: 0.8861\n",
      "Epoch 20/50\n",
      "\u001b[1m12500/12500\u001b[0m \u001b[32m━━━━━━━━━━━━━━━━━━━━\u001b[0m\u001b[37m\u001b[0m \u001b[1m14s\u001b[0m 1ms/step - loss: 0.8955 - val_loss: 0.8862\n",
      "Epoch 21/50\n",
      "\u001b[1m12500/12500\u001b[0m \u001b[32m━━━━━━━━━━━━━━━━━━━━\u001b[0m\u001b[37m\u001b[0m \u001b[1m13s\u001b[0m 1ms/step - loss: 0.9067 - val_loss: 0.8862\n",
      "Epoch 22/50\n",
      "\u001b[1m12500/12500\u001b[0m \u001b[32m━━━━━━━━━━━━━━━━━━━━\u001b[0m\u001b[37m\u001b[0m \u001b[1m13s\u001b[0m 1ms/step - loss: 0.9221 - val_loss: 0.8861\n",
      "Epoch 23/50\n",
      "\u001b[1m12500/12500\u001b[0m \u001b[32m━━━━━━━━━━━━━━━━━━━━\u001b[0m\u001b[37m\u001b[0m \u001b[1m14s\u001b[0m 1ms/step - loss: 0.9051 - val_loss: 0.8861\n",
      "Epoch 24/50\n",
      "\u001b[1m12500/12500\u001b[0m \u001b[32m━━━━━━━━━━━━━━━━━━━━\u001b[0m\u001b[37m\u001b[0m \u001b[1m10s\u001b[0m 775us/step - loss: 0.9173 - val_loss: 0.8861\n",
      "Epoch 25/50\n",
      "\u001b[1m12500/12500\u001b[0m \u001b[32m━━━━━━━━━━━━━━━━━━━━\u001b[0m\u001b[37m\u001b[0m \u001b[1m10s\u001b[0m 780us/step - loss: 0.9397 - val_loss: 0.8861\n",
      "Epoch 26/50\n",
      "\u001b[1m12500/12500\u001b[0m \u001b[32m━━━━━━━━━━━━━━━━━━━━\u001b[0m\u001b[37m\u001b[0m \u001b[1m10s\u001b[0m 760us/step - loss: 0.9275 - val_loss: 0.8861\n",
      "Epoch 27/50\n",
      "\u001b[1m12500/12500\u001b[0m \u001b[32m━━━━━━━━━━━━━━━━━━━━\u001b[0m\u001b[37m\u001b[0m \u001b[1m14s\u001b[0m 1ms/step - loss: 0.9049 - val_loss: 0.8861\n",
      "Epoch 28/50\n",
      "\u001b[1m12500/12500\u001b[0m \u001b[32m━━━━━━━━━━━━━━━━━━━━\u001b[0m\u001b[37m\u001b[0m \u001b[1m13s\u001b[0m 1ms/step - loss: 0.9101 - val_loss: 0.8861\n",
      "Epoch 29/50\n",
      "\u001b[1m12500/12500\u001b[0m \u001b[32m━━━━━━━━━━━━━━━━━━━━\u001b[0m\u001b[37m\u001b[0m \u001b[1m13s\u001b[0m 1ms/step - loss: 0.8984 - val_loss: 0.8861\n",
      "Epoch 30/50\n",
      "\u001b[1m12500/12500\u001b[0m \u001b[32m━━━━━━━━━━━━━━━━━━━━\u001b[0m\u001b[37m\u001b[0m \u001b[1m14s\u001b[0m 1ms/step - loss: 0.9037 - val_loss: 0.8861\n",
      "Epoch 31/50\n",
      "\u001b[1m12500/12500\u001b[0m \u001b[32m━━━━━━━━━━━━━━━━━━━━\u001b[0m\u001b[37m\u001b[0m \u001b[1m13s\u001b[0m 1ms/step - loss: 0.9113 - val_loss: 0.8861\n",
      "Epoch 32/50\n",
      "\u001b[1m12500/12500\u001b[0m \u001b[32m━━━━━━━━━━━━━━━━━━━━\u001b[0m\u001b[37m\u001b[0m \u001b[1m13s\u001b[0m 1ms/step - loss: 0.9029 - val_loss: 0.8861\n",
      "Epoch 33/50\n",
      "\u001b[1m12500/12500\u001b[0m \u001b[32m━━━━━━━━━━━━━━━━━━━━\u001b[0m\u001b[37m\u001b[0m \u001b[1m13s\u001b[0m 1ms/step - loss: 0.9060 - val_loss: 0.8861\n",
      "Epoch 34/50\n",
      "\u001b[1m12500/12500\u001b[0m \u001b[32m━━━━━━━━━━━━━━━━━━━━\u001b[0m\u001b[37m\u001b[0m \u001b[1m10s\u001b[0m 788us/step - loss: 0.9121 - val_loss: 0.8860\n",
      "Epoch 35/50\n",
      "\u001b[1m12500/12500\u001b[0m \u001b[32m━━━━━━━━━━━━━━━━━━━━\u001b[0m\u001b[37m\u001b[0m \u001b[1m9s\u001b[0m 753us/step - loss: 0.9237 - val_loss: 0.8861\n",
      "Epoch 36/50\n",
      "\u001b[1m12500/12500\u001b[0m \u001b[32m━━━━━━━━━━━━━━━━━━━━\u001b[0m\u001b[37m\u001b[0m \u001b[1m12s\u001b[0m 994us/step - loss: 0.9050 - val_loss: 0.8861\n",
      "Epoch 37/50\n",
      "\u001b[1m12500/12500\u001b[0m \u001b[32m━━━━━━━━━━━━━━━━━━━━\u001b[0m\u001b[37m\u001b[0m \u001b[1m14s\u001b[0m 1ms/step - loss: 0.8955 - val_loss: 0.8860\n",
      "Epoch 38/50\n",
      "\u001b[1m12500/12500\u001b[0m \u001b[32m━━━━━━━━━━━━━━━━━━━━\u001b[0m\u001b[37m\u001b[0m \u001b[1m15s\u001b[0m 1ms/step - loss: 0.9030 - val_loss: 0.8861\n",
      "Epoch 39/50\n",
      "\u001b[1m12500/12500\u001b[0m \u001b[32m━━━━━━━━━━━━━━━━━━━━\u001b[0m\u001b[37m\u001b[0m \u001b[1m13s\u001b[0m 1ms/step - loss: 0.9064 - val_loss: 0.8861\n",
      "Epoch 40/50\n",
      "\u001b[1m12500/12500\u001b[0m \u001b[32m━━━━━━━━━━━━━━━━━━━━\u001b[0m\u001b[37m\u001b[0m \u001b[1m14s\u001b[0m 1ms/step - loss: 0.9026 - val_loss: 0.8862\n",
      "Epoch 41/50\n",
      "\u001b[1m12500/12500\u001b[0m \u001b[32m━━━━━━━━━━━━━━━━━━━━\u001b[0m\u001b[37m\u001b[0m \u001b[1m13s\u001b[0m 1ms/step - loss: 0.9002 - val_loss: 0.8860\n",
      "Epoch 42/50\n",
      "\u001b[1m12500/12500\u001b[0m \u001b[32m━━━━━━━━━━━━━━━━━━━━\u001b[0m\u001b[37m\u001b[0m \u001b[1m13s\u001b[0m 1ms/step - loss: 0.8982 - val_loss: 0.8860\n",
      "Epoch 43/50\n",
      "\u001b[1m12500/12500\u001b[0m \u001b[32m━━━━━━━━━━━━━━━━━━━━\u001b[0m\u001b[37m\u001b[0m \u001b[1m11s\u001b[0m 862us/step - loss: 0.9064 - val_loss: 0.8860\n",
      "Epoch 44/50\n",
      "\u001b[1m12500/12500\u001b[0m \u001b[32m━━━━━━━━━━━━━━━━━━━━\u001b[0m\u001b[37m\u001b[0m \u001b[1m10s\u001b[0m 762us/step - loss: 0.8937 - val_loss: 0.8860\n",
      "Epoch 45/50\n",
      "\u001b[1m12500/12500\u001b[0m \u001b[32m━━━━━━━━━━━━━━━━━━━━\u001b[0m\u001b[37m\u001b[0m \u001b[1m10s\u001b[0m 784us/step - loss: 0.9041 - val_loss: 0.8861\n",
      "Epoch 46/50\n",
      "\u001b[1m12500/12500\u001b[0m \u001b[32m━━━━━━━━━━━━━━━━━━━━\u001b[0m\u001b[37m\u001b[0m \u001b[1m14s\u001b[0m 1ms/step - loss: 0.8943 - val_loss: 0.8861\n",
      "Epoch 47/50\n",
      "\u001b[1m12500/12500\u001b[0m \u001b[32m━━━━━━━━━━━━━━━━━━━━\u001b[0m\u001b[37m\u001b[0m \u001b[1m14s\u001b[0m 1ms/step - loss: 0.9273 - val_loss: 0.8861\n",
      "Epoch 48/50\n",
      "\u001b[1m12500/12500\u001b[0m \u001b[32m━━━━━━━━━━━━━━━━━━━━\u001b[0m\u001b[37m\u001b[0m \u001b[1m15s\u001b[0m 1ms/step - loss: 0.9067 - val_loss: 0.8861\n",
      "Epoch 49/50\n",
      "\u001b[1m12500/12500\u001b[0m \u001b[32m━━━━━━━━━━━━━━━━━━━━\u001b[0m\u001b[37m\u001b[0m \u001b[1m13s\u001b[0m 1ms/step - loss: 0.9004 - val_loss: 0.8861\n",
      "Epoch 50/50\n",
      "\u001b[1m12500/12500\u001b[0m \u001b[32m━━━━━━━━━━━━━━━━━━━━\u001b[0m\u001b[37m\u001b[0m \u001b[1m13s\u001b[0m 1ms/step - loss: 0.9150 - val_loss: 0.8861\n",
      "\u001b[1m15625/15625\u001b[0m \u001b[32m━━━━━━━━━━━━━━━━━━━━\u001b[0m\u001b[37m\u001b[0m \u001b[1m11s\u001b[0m 676us/step\n"
     ]
    }
   ],
   "source": [
    "from tensorflow.keras.models import Model\n",
    "from tensorflow.keras.layers import Input, Dense\n",
    "\n",
    "input_dim = X.shape[1]\n",
    "encoding_dim = 3\n",
    "\n",
    "input_layer = Input(shape=(input_dim,))\n",
    "encoder = Dense(encoding_dim, activation='relu')(input_layer)\n",
    "decoder = Dense(input_dim, activation='sigmoid')(encoder)\n",
    "autoencoder = Model(inputs=input_layer, outputs=decoder)\n",
    "\n",
    "autoencoder.compile(optimizer='adam', loss='mse')\n",
    "autoencoder.fit(X, X, epochs=50, batch_size=32, shuffle=True, validation_split=0.2)\n",
    "\n",
    "encoder_model = Model(inputs=input_layer, outputs=encoder)\n",
    "X_reduced = encoder_model.predict(X)\n"
   ]
  },
  {
   "cell_type": "code",
   "execution_count": 655,
   "metadata": {},
   "outputs": [],
   "source": [
    "X_reduced = pd.DataFrame(X_reduced, columns=[f'component_{i}' for i in range(encoding_dim)])"
   ]
  },
  {
   "cell_type": "code",
   "execution_count": 680,
   "metadata": {},
   "outputs": [],
   "source": [
    "train_df = train_df.reset_index(drop=True)\n",
    "X_reduced = X_reduced.reset_index(drop=True)\n",
    "reduced_df = pd.concat([train_df.drop(columns=numerical_cols), X_reduced], axis=1)\n"
   ]
  },
  {
   "cell_type": "code",
   "execution_count": 682,
   "metadata": {},
   "outputs": [],
   "source": [
    "reduced_df.drop(columns=['ID_Area', 'ID_Mesin_x', 'Machine', 'timestamp', 'Status',\n",
    "       'Breakdown Category', 'Area', 'ID_Mesin_x', 'Mesin_x',\n",
    "       'Country Machine_x', 'ID_Mesin_y', 'Mesin_y', 'Country Machine_y',\n",
    "       'Last Maintenance'], inplace=True)"
   ]
  },
  {
   "cell_type": "code",
   "execution_count": 689,
   "metadata": {},
   "outputs": [
    {
     "data": {
      "text/plain": [
       "Area\n",
       "JGJ     23880\n",
       "BNTN    22876\n",
       "BGR     20909\n",
       "BPN     20768\n",
       "TGR     20549\n",
       "SKBM    20481\n",
       "BKS     20394\n",
       "PLKG    19879\n",
       "SRBY    19856\n",
       "BDG     19670\n",
       "MKS     19614\n",
       "MLG     19586\n",
       "BFMG    19212\n",
       "KRWG    19198\n",
       "KLT     19035\n",
       "SMGS    18821\n",
       "KDR     18691\n",
       "LMPG    17983\n",
       "MKSR    16900\n",
       "SRG     16698\n",
       "BLJA     9311\n",
       "SDA      9267\n",
       "Name: count, dtype: int64"
      ]
     },
     "execution_count": 689,
     "metadata": {},
     "output_type": "execute_result"
    }
   ],
   "source": [
    "train_df['Area'].value_counts()"
   ]
  },
  {
   "cell_type": "code",
   "execution_count": 683,
   "metadata": {},
   "outputs": [],
   "source": [
    "X_train, X_test, y_train, y_test = train_test_split(reduced_df, y, test_size=0.2, random_state=42)"
   ]
  },
  {
   "cell_type": "code",
   "execution_count": 684,
   "metadata": {},
   "outputs": [
    {
     "data": {
      "text/plain": [
       "Index(['Priority_High', 'Priority_Low', 'Priority_Medium', 'Priority_nan',\n",
       "       'Status Sparepart_Broken', 'Status Sparepart_Empty',\n",
       "       'Status Sparepart_In Use', 'Status Sparepart_On Check',\n",
       "       'Status Sparepart_Ready', 'Status Sparepart_Repair',\n",
       "       'Status Sparepart_nan', 'Power_Backup_No', 'Power_Backup_Yes',\n",
       "       'Power_Backup_nan', 'component_0', 'component_1', 'component_2'],\n",
       "      dtype='object')"
      ]
     },
     "execution_count": 684,
     "metadata": {},
     "output_type": "execute_result"
    }
   ],
   "source": [
    "X_train.columns"
   ]
  },
  {
   "cell_type": "markdown",
   "metadata": {},
   "source": [
    "# **Modelling & Validation**"
   ]
  },
  {
   "cell_type": "code",
   "execution_count": 685,
   "metadata": {},
   "outputs": [],
   "source": [
    "import xgboost as xgb\n",
    "from sklearn.metrics import confusion_matrix\n",
    "def precision_recall_f1(tp, fp, fn):\n",
    "    # Calculate Precision\n",
    "    precision = tp / (tp + fp) if (tp + fp) > 0 else 0\n",
    "    \n",
    "    # Calculate Recall\n",
    "    recall = tp / (tp + fn) if (tp + fn) > 0 else 0\n",
    "    \n",
    "    # Calculate F1 Score\n",
    "    if precision + recall == 0:\n",
    "        f1 = 0\n",
    "    else:\n",
    "        f1 = 2 * (precision * recall) / (precision + recall)\n",
    "    \n",
    "    return precision, recall, f1\n",
    "\n",
    "xgb_model = xgb.XGBClassifier()\n",
    "xgb_model.fit(X_train, y_train)\n",
    "y_pred = xgb_model.predict(X_test)"
   ]
  },
  {
   "cell_type": "code",
   "execution_count": 686,
   "metadata": {},
   "outputs": [
    {
     "name": "stdout",
     "output_type": "stream",
     "text": [
      "              precision    recall  f1-score   support\n",
      "\n",
      "           0       0.61      1.00      0.76     61285\n",
      "           1       0.27      0.00      0.00     19610\n",
      "           2       0.32      0.00      0.00     19105\n",
      "\n",
      "    accuracy                           0.61    100000\n",
      "   macro avg       0.40      0.33      0.25    100000\n",
      "weighted avg       0.49      0.61      0.47    100000\n",
      "\n"
     ]
    }
   ],
   "source": [
    "from sklearn.metrics import classification_report\n",
    "\n",
    "print(classification_report(y_test, y_pred))"
   ]
  },
  {
   "cell_type": "code",
   "execution_count": 687,
   "metadata": {},
   "outputs": [
    {
     "name": "stdout",
     "output_type": "stream",
     "text": [
      "Macro F1-Score: 0.25380115555892097\n"
     ]
    }
   ],
   "source": [
    "report = classification_report(y_test, y_pred, output_dict=True)\n",
    "macro_f1 = report['macro avg']['f1-score']\n",
    "print(f\"Macro F1-Score: {macro_f1}\")"
   ]
  },
  {
   "cell_type": "code",
   "execution_count": 688,
   "metadata": {},
   "outputs": [
    {
     "data": {
      "image/png": "[encoded data removed]",
      "text/plain": [
       "<Figure size 640x480 with 1 Axes>"
      ]
     },
     "metadata": {},
     "output_type": "display_data"
    }
   ],
   "source": [
    "#feature importance\n",
    "xgb.plot_importance(xgb_model)\n",
    "plt.show()"
   ]
  },
  {
   "cell_type": "markdown",
   "metadata": {},
   "source": [
    "# **Result & Analysis**"
   ]
  }
 ],
 "metadata": {
  "kernelspec": {
   "display_name": "Python 3",
   "language": "python",
   "name": "python3"
  },
  "language_info": {
   "codemirror_mode": {
    "name": "ipython",
    "version": 3
   },
   "file_extension": ".py",
   "mimetype": "text/x-python",
   "name": "python",
   "nbconvert_exporter": "python",
   "pygments_lexer": "ipython3",
   "version": "3.10.5"
  }
 },
 "nbformat": 4,
 "nbformat_minor": 2
}
